{
 "cells": [
  {
   "cell_type": "markdown",
   "id": "2c97f91f",
   "metadata": {},
   "source": [
    "# タートルグラフィックス入門\n",
    "タートルグラフィックスでPythonの基礎を学びましょう\n",
    "\n",
    "## ColabTurtleのインストール\n",
    "以下の命令を実行して、ColabTurtleというライブラリをインストールしてください。\n",
    "一回インストールしたら、それ以降は、ずっと利用可能です。\n",
    "```\n",
    "pip install ColabTurtle\n",
    "```"
   ]
  },
  {
   "cell_type": "code",
   "execution_count": null,
   "id": "415319eb",
   "metadata": {},
   "outputs": [],
   "source": []
  },
  {
   "cell_type": "markdown",
   "id": "5278ff09",
   "metadata": {},
   "source": [
    "### ライブラリの定義\n",
    "インストールしたライブラリを使用するためには、\n",
    "以下のようにライブラリを定義する必要があります。\n",
    "```python\n",
    "from ColabTurtle.Turtle import *\n",
    "```\n",
    "上記コードを入力して、実行してください。"
   ]
  },
  {
   "cell_type": "code",
   "execution_count": 2,
   "id": "a2020c87",
   "metadata": {},
   "outputs": [],
   "source": []
  },
  {
   "cell_type": "markdown",
   "id": "70dd6bc3",
   "metadata": {},
   "source": [
    "## 図形の描画\n",
    "タートルグラフィックスを利用するための準備が整ったので、早速、様々な図形を描画していきましょう。\n",
    "### 図形の初期化\n",
    "図形を描画するときは、最初に\n",
    "```python\n",
    "initializeTurtle()\n",
    "```\n",
    "を実行し、カーソル（亀）の位置や向きを初期化します。\n",
    "実行結果として、幅：800px、 高さ500pxのキャンバスが表示され、キャンバスの中央に上を向いた亀が表示されます。\n",
    "この亀を動かしながら図形を描画していきます。\n",
    "上記コードを入力して、実行してください。"
   ]
  },
  {
   "cell_type": "code",
   "execution_count": null,
   "id": "acaece9f",
   "metadata": {},
   "outputs": [],
   "source": []
  },
  {
   "cell_type": "markdown",
   "id": "e1d2deda",
   "metadata": {},
   "source": [
    "### 線を描画する\n",
    "ペンを上げたままで、亀を座標(100, 400)に移動し、ペンを下して、亀の進行方向（ここでは上方向）に300だけ移動させます。ペンを下した状態で亀を移動させると、その軌跡が線として描画されます。\n",
    "このとき、ペンを上げるのは`penup()`、ペンを下すのは`pendown()`、亀を特定の座標(x, y)に移動させるには`goto(x, y)`、亀を進行方向に移動させるには`forward(移動量)`を指示します。\n",
    "移動が終わったら、ペンを上げます。\n",
    "\n",
    "ここまでの処理をプログラミングして実行してください。"
   ]
  },
  {
   "cell_type": "code",
   "execution_count": null,
   "id": "dd1c2a0b",
   "metadata": {},
   "outputs": [],
   "source": []
  },
  {
   "cell_type": "markdown",
   "id": "f8fe67da",
   "metadata": {},
   "source": [
    "#### 正解例\n",
    "```python\n",
    "initializeTurtle()\n",
    "penup()\n",
    "goto(100, 400)\n",
    "pendown()\n",
    "forward(300)\n",
    "penup()\n",
    "```"
   ]
  },
  {
   "cell_type": "markdown",
   "id": "75c48d73",
   "metadata": {},
   "source": [
    "### 亀を回転する\n",
    "次に、ペンを下して、亀を右に90度だけ回転させ、亀の進行方向（ここでは右向き）に300だけ移動させます。\n",
    "亀の向きを右方向にn度回転させるには`right(n)`、左方向にn度回転させるには`left(n)`を指示します。\n",
    "移動が終わったら、ペンを上げます。\n",
    "\n",
    "ここまでの処理をプログラミングして実行してください。"
   ]
  },
  {
   "cell_type": "code",
   "execution_count": null,
   "id": "84678329",
   "metadata": {},
   "outputs": [],
   "source": []
  },
  {
   "cell_type": "markdown",
   "id": "7ab4342a",
   "metadata": {},
   "source": [
    "#### 正解例\n",
    "```python\n",
    "initializeTurtle()\n",
    "penup()\n",
    "goto(100, 400)\n",
    "pendown()\n",
    "forward(300)\n",
    "penup()\n",
    "pendown()\n",
    "right(90)\n",
    "forward(300)\n",
    "penup()\n",
    "```"
   ]
  },
  {
   "cell_type": "markdown",
   "id": "406c4dfd",
   "metadata": {},
   "source": [
    "### 正方形を描く\n",
    "最後に、ペンを下して、亀の右向き90度の回転と、亀の進行方向への300の移動を2回繰り返します。\n",
    "この結果、正方形が完成します。\n",
    "\n",
    "ここまでの処理をプログラミングして実行してください。"
   ]
  },
  {
   "cell_type": "code",
   "execution_count": null,
   "id": "c20828c7",
   "metadata": {},
   "outputs": [],
   "source": []
  },
  {
   "cell_type": "markdown",
   "id": "a1df2450",
   "metadata": {},
   "source": [
    "#### 正解例\n",
    "```python\n",
    "initializeTurtle()\n",
    "penup()\n",
    "goto(100, 400)\n",
    "pendown()\n",
    "forward(300)\n",
    "penup()\n",
    "pendown()\n",
    "right(90)\n",
    "forward(300)\n",
    "penup()\n",
    "pendown()\n",
    "right(90)\n",
    "forward(300)\n",
    "right(90)\n",
    "forward(300)\n",
    "```"
   ]
  },
  {
   "cell_type": "markdown",
   "id": "1ed2277e",
   "metadata": {},
   "source": [
    "### 正三角形を描く\n",
    "次に正三角形を描いてみましょう。\n",
    "正方形と異なるのは、亀の回転する角度と、亀の移動の繰り返しの回数です。\n",
    "正方形では、90度の回転をしていましたが、正三角形では120度の回転が必要です。\n",
    "また、正三角形は３辺で構成されるため、移動と回転の繰り返しは３回で完成します。\n",
    "\n",
    "ここまでの処理をプログラミングして実行してください。\n",
    "なお、画面を最初に初期化してから実行してください。\n",
    "また、最初の回転は30度にして下さい。"
   ]
  },
  {
   "cell_type": "code",
   "execution_count": null,
   "id": "77d4edc3",
   "metadata": {},
   "outputs": [],
   "source": []
  },
  {
   "cell_type": "markdown",
   "id": "0f716d1f",
   "metadata": {},
   "source": [
    "#### 正解例\n",
    "```python\n",
    "initializeTurtle()\n",
    "penup()\n",
    "goto(100, 400)\n",
    "right(30)\n",
    "pendown()\n",
    "forward(300)\n",
    "right(120)\n",
    "forward(300)\n",
    "right(120)\n",
    "forward(300)\n",
    "penup()\n",
    "```"
   ]
  },
  {
   "cell_type": "markdown",
   "id": "9d1a3805",
   "metadata": {},
   "source": [
    "亀は最初に上を向いているので、最初の回転を行わないと左辺が垂直の正三角形になります。\n",
    "最初に亀の向きを30度右向きにしておくと、下辺が水平の正三角形になります。\n",
    "\n",
    "### 正多角形を描画する\n",
    "正三角形や正方形だけでなく、正五角形、正六角形など様々な正多角形を描画してみましょう。\n",
    "\n",
    "正三角形は移動と120度回転を3回繰り返しました。\n",
    "正方形は移動と90度回転を4回繰り返しました。\n",
    "\n",
    "実は、同様に正N角形は移動と360度÷N回転をN回繰り返すと完成します。\n",
    "\n",
    "そこで、この処理を`polygon()`という関数に定義してみましょう。\n",
    "関数の引数（関数に渡す値、()の中に記述）は、N角形のNの値と\n",
    "移動量にします。\n",
    "\n",
    "関数は\n",
    "```python\n",
    "def polygon(n, d):\n",
    "    処理\n",
    "```\n",
    "のように定義します\n",
    "\n",
    "n繰り返す処理は\n",
    "```python\n",
    "for i in range(n):\n",
    "    処理\n",
    "```\n",
    "のように記述します。\n",
    "\n",
    "移動は`forward(d)`で行い、\n",
    "回転角度は`angle = 360 / n`で得られ、`right(angle)`で回転します。\n",
    "\n",
    "定義した関数は`polygon(3, 300)`のように実行します。\n",
    "\n",
    "\n",
    "関数`polygon()`を定義し、１辺300の3角形を描画するプログラムを作成してください。\n",
    "なお。最初に初期化を行い、30度回転してから描画してください。"
   ]
  },
  {
   "cell_type": "code",
   "execution_count": null,
   "id": "609fdfbd",
   "metadata": {},
   "outputs": [],
   "source": []
  },
  {
   "cell_type": "markdown",
   "id": "f42a54ce",
   "metadata": {},
   "source": [
    "#### 正解例\n",
    "```python\n",
    "def polygon(n, d):\n",
    "    angle = 360 / n\n",
    "    for i in range(n):\n",
    "        forward(d)\n",
    "        right(angle)\n",
    "        \n",
    "initializeTurtle()\n",
    "penup()\n",
    "goto(100, 400)\n",
    "right(30)\n",
    "pendown()\n",
    "polygon(3, 300)\n",
    "penup()\n",
    "```"
   ]
  },
  {
   "cell_type": "markdown",
   "id": "cfee65a9",
   "metadata": {},
   "source": [
    "### 円を描く\n",
    "正多角形を描画するプログラムを使って、角の数を大きくし、辺の長さを小さくすると限りなく円に近づきます。\n",
    "\n",
    "角の数を90、辺の長さを5にして、`polygon()`を実行してみましょう。\n",
    "最初に初期化を行いますが、回転は行いません。"
   ]
  },
  {
   "cell_type": "code",
   "execution_count": null,
   "id": "c1beccb4",
   "metadata": {},
   "outputs": [],
   "source": []
  },
  {
   "cell_type": "markdown",
   "id": "bae13581",
   "metadata": {},
   "source": [
    "#### 正解例\n",
    "```python\n",
    "def polygon(n, d):\n",
    "    angle = 360 / n\n",
    "    for i in range(n):\n",
    "        forward(d)\n",
    "        right(angle)\n",
    "        \n",
    "initializeTurtle()\n",
    "penup()\n",
    "goto(100, 400)\n",
    "pendown()\n",
    "polygon(90, 5)\n",
    "penup()\n",
    "```"
   ]
  },
  {
   "cell_type": "markdown",
   "id": "1317892a",
   "metadata": {},
   "source": [
    "円を描くことができました。\n",
    "時間がかかるのは亀なのでがまんしましょう。\n",
    "\n",
    "### 半径を指定して、指定位置を中心とした円を描く\n",
    "円を描画するときは、通常、円の中心と半径を指定します。\n",
    "そのような関数`circle(x, y, r)`を作成してみましょう。\n",
    "\n",
    "まず、位置ですが`goto(x, y)`で移動します。\n",
    "描画の開始点は円周上なので円の中心(x, y)からx方向に半径分だけ左移動させ、`goto(x-r, y)`とします。\n",
    "\n",
    "次に`polygon(n, d)`関数を実行して、近似円を作成します。\n",
    "\n",
    "近似する角の数(n)はとりあえず90とします。（この値を大きくした方がより円に近づきますが、あまり大きくすると亀の動きが遅くなり、時間がかかります）\n",
    "\n",
    "移動量(d)ですが、皆さんは学校で「半径から円周の長さを求める」方法を習っていると思います。\n",
    "`円周の長さ ＝ 直径(半径×2) × 円周率(3.14)`ですね。\n",
    "移動量の総和（`全ての移動量を足したもの ＝ 移動量×n(90)`）が円周の長さと等しくなります。\n",
    "従って、`移動量 ＝ 半径×2×3.14÷n(90)`になります。\n",
    "\n",
    "それでは、関数`circle(x, y, r)` を定義して、座標(200, 200)を中心とする半径100の円を描いてみましょう。"
   ]
  },
  {
   "cell_type": "code",
   "execution_count": null,
   "id": "2bf0f744",
   "metadata": {},
   "outputs": [],
   "source": []
  },
  {
   "cell_type": "markdown",
   "id": "c2fc1f3e",
   "metadata": {},
   "source": [
    "#### 正解例\n",
    "```python\n",
    "def polygon(n, d):\n",
    "    angle = 360 / n\n",
    "    for i in range(n):\n",
    "        forward(d)\n",
    "        right(angle)\n",
    "        \n",
    "def circle(x, y, r):\n",
    "    penup()\n",
    "    goto(x - r, y)\n",
    "    pendown()\n",
    "    n = 90\n",
    "    d = r * 3.14 / n\n",
    "    polygon(n, d)\n",
    "    \n",
    "initializeTurtle()\n",
    "circle(200, 200, 100)\n",
    "```"
   ]
  },
  {
   "cell_type": "markdown",
   "id": "0e457564",
   "metadata": {},
   "source": [
    "### 線に色を付ける\n",
    "線に色を付けてみましょう。\n",
    "\n",
    "`color(\"色\")`で線に色を付けることができます。\n",
    "\n",
    "例えば以下のような色が指定できます。\n",
    "* red （赤）\n",
    "* blue （青）\n",
    "* green （緑）\n",
    "* yellow （黄）\n",
    "* purple （紫）\n",
    "* pink （ピンク）\n",
    "\n",
    "多角形に色を付けて描画してみましょう。"
   ]
  },
  {
   "cell_type": "code",
   "execution_count": null,
   "id": "f74f4d0d",
   "metadata": {},
   "outputs": [],
   "source": []
  },
  {
   "cell_type": "markdown",
   "id": "91e73a2c",
   "metadata": {},
   "source": [
    "#### 正解例\n",
    "```python\n",
    "def polygon(n, d):\n",
    "    angle = 360 / n\n",
    "    for i in range(n):\n",
    "        forward(d)\n",
    "        right(angle)\n",
    "\n",
    "initializeTurtle()\n",
    "penup()\n",
    "goto(100, 200)\n",
    "right(30)\n",
    "color(\"red\")\n",
    "pendown()\n",
    "polygon(6, 200)\n",
    "penup()\n",
    "```"
   ]
  },
  {
   "cell_type": "markdown",
   "id": "a59771ca",
   "metadata": {},
   "source": [
    "途中で色を変えることもできます。\n",
    "\n",
    "### ペンの太さを変える\n",
    "ペンの太さをかえてみましょう。\n",
    "\n",
    "`pensize(ペンの太さ)`でペンの太さを変えることができます。\n",
    "\n",
    "いろいろな太さで多角形を描画してみましょう。"
   ]
  },
  {
   "cell_type": "code",
   "execution_count": null,
   "id": "cb14646c",
   "metadata": {},
   "outputs": [],
   "source": []
  },
  {
   "cell_type": "markdown",
   "id": "0b568d5d",
   "metadata": {},
   "source": [
    "#### 正解例\n",
    "```python\n",
    "def polygon(n, d):\n",
    "    angle = 360 / n\n",
    "    for i in range(n):\n",
    "        forward(d)\n",
    "        right(angle)\n",
    "\n",
    "initializeTurtle()\n",
    "penup()\n",
    "goto(100, 200)\n",
    "right(30)\n",
    "pensize(20)\n",
    "pendown()\n",
    "polygon(6, 200)\n",
    "penup()\n",
    "```"
   ]
  },
  {
   "cell_type": "markdown",
   "id": "2e661125",
   "metadata": {},
   "source": [
    "## 文字の描画\n",
    "図形だけでなく文字を描画することも可能です。\n",
    "\n",
    "文字を描画するには`write(文字, font=文字のフォント)`を指示します。\n",
    "フォントは、`(文字の大きさ, フォントの種類, フォントのスタイル)`で構成されています。\n",
    "```python\n",
    "write(\"T\", font=(40, \"Arial\", \"normal\"))\n",
    "```\n",
    "のように指定します。\n",
    "\n",
    "文字を描く位置に移動し、文字の書く方向に回転し、文字を描いたら移動して次の文字を描きます。\n",
    "ペンは上げたままです。\n",
    "\n",
    "それでは、座標(100, 250)から100ずつ右に移動しながら\"TURTLE\"と描いてみましょう。"
   ]
  },
  {
   "cell_type": "code",
   "execution_count": null,
   "id": "af119533",
   "metadata": {},
   "outputs": [],
   "source": []
  },
  {
   "cell_type": "markdown",
   "id": "f744c26a",
   "metadata": {},
   "source": [
    "#### 正解例\n",
    "```python\n",
    "initializeTurtle()\n",
    "penup()\n",
    "goto(100, 250)\n",
    "right(90)\n",
    "write(\"T\", font=(40, \"Arial\", \"normal\"))\n",
    "forward(100)\n",
    "write(\"U\", font=(40, \"Arial\", \"normal\"))\n",
    "forward(100)\n",
    "write(\"R\", font=(40, \"Arial\", \"normal\"))\n",
    "forward(100)\n",
    "write(\"T\", font=(40, \"Arial\", \"normal\"))\n",
    "forward(100)\n",
    "write(\"L\", font=(40, \"Arial\", \"normal\"))\n",
    "forward(100)\n",
    "write(\"E\", font=(40, \"Arial\", \"normal\"))\n",
    "forward(100)\n",
    "```"
   ]
  },
  {
   "cell_type": "markdown",
   "id": "951fb3df",
   "metadata": {},
   "source": [
    "最後の文字を描いた後も亀を移動した方が見やすいです。"
   ]
  },
  {
   "cell_type": "markdown",
   "id": "94825f35",
   "metadata": {},
   "source": [
    "### 日本語を描画する\n",
    "日本語を描画してみましょう。\n",
    "\n",
    "```python\n",
    "write(\"T\", font=(40, \"Arial\", \"normal\"))\n",
    "```\n",
    "を\n",
    "```python\n",
    "write(\"あ\", font=(40, \"Mincho\", \"normal\"))\n",
    "```\n",
    "のように書き換えて、「あ」を描くプログラムを作成し、実行してみましょう"
   ]
  },
  {
   "cell_type": "code",
   "execution_count": null,
   "id": "3c15e2fc",
   "metadata": {},
   "outputs": [],
   "source": []
  },
  {
   "cell_type": "markdown",
   "id": "1d1f464b",
   "metadata": {},
   "source": [
    "#### 正解例\n",
    "```python\n",
    "initializeTurtle()\n",
    "penup()\n",
    "goto(100, 250)\n",
    "write(\"あ\", font=(40, \"Mincho\", \"normal\"))\n",
    "```"
   ]
  },
  {
   "cell_type": "markdown",
   "id": "b4aaf88c",
   "metadata": {},
   "source": [
    "「あ」と表示されます。\n",
    "「TURTLE」と同じように、好きな日本語も文字を複数描画してみましょう。"
   ]
  },
  {
   "cell_type": "code",
   "execution_count": null,
   "id": "aff049e7",
   "metadata": {},
   "outputs": [],
   "source": []
  },
  {
   "cell_type": "markdown",
   "id": "549a29d2",
   "metadata": {},
   "source": [
    "#### 正解例\n",
    "```python\n",
    "initializeTurtle()\n",
    "penup()\n",
    "goto(100, 250)\n",
    "right(90)\n",
    "write(\"あ\", font=(40, \"Mincho\", \"normal\"))\n",
    "forward(100)\n",
    "write(\"い\", font=(40, \"Mincho\", \"normal\"))\n",
    "forward(100)\n",
    "write(\"う\", font=(40, \"Mincho\", \"normal\"))\n",
    "forward(100)\n",
    "write(\"え\", font=(40, \"Mincho\", \"normal\"))\n",
    "forward(100)\n",
    "write(\"お\", font=(40, \"Mincho\", \"normal\"))\n",
    "forward(100)\n",
    "```"
   ]
  },
  {
   "cell_type": "markdown",
   "id": "63fbed00",
   "metadata": {},
   "source": [
    "### 文字列を描画する\n",
    "文字を描画する関数`write()`を組み合わせて文字列を描画する関数`writeString()`を作成してみましょう。\n",
    "\n",
    "引数として、「文字列(str)、移動量(d)、フォント(font)」を指定します。\n",
    "文字列は、\n",
    "```\n",
    "for c in str:\n",
    "    write(c, font=font)\n",
    "    forward(d)\n",
    "```\n",
    "のようにすると１文字ずつ描画、移動することができます。\n",
    "\n",
    "`writeString()`を作成し、80ずつ移動しながらフォント(40, \"Mincho\", \"normal\")で\"三浦コンピュータ\"を描いてみましょう。"
   ]
  },
  {
   "cell_type": "code",
   "execution_count": null,
   "id": "cbee91c2",
   "metadata": {},
   "outputs": [],
   "source": []
  },
  {
   "cell_type": "markdown",
   "id": "c7f0fa44",
   "metadata": {},
   "source": [
    "#### 正解例\n",
    "```python\n",
    "def writeString(str, d, font):\n",
    "    for c in str:\n",
    "        write(c, font=font)\n",
    "        forward(d)\n",
    "        \n",
    "initializeTurtle()\n",
    "penup()\n",
    "goto(100, 250)\n",
    "right(90)\n",
    "writeString(\"三浦コンピュータ\", 80, (40, \"Mincho\", \"normal\"))\n",
    "```"
   ]
  },
  {
   "cell_type": "markdown",
   "id": "377f695b",
   "metadata": {},
   "source": [
    "## 課題１\n",
    "文字列を文字列の長さ角形（３文字なら３角形）の頂点に描いていくプログラムを作成してください。\n",
    "`polygon()`と`writeString()`を組み合わせた`polygonString()`関数を作成してみましょう。\n",
    "引数は、`(文字列、辺の長さ、フォント)`です。\n",
    "なお、文字列の長さnは`len(str)`で求めることができます。\n",
    "\n",
    "`(40, \"Arial\", \"normal\")`で`\"TURTLE\"`を描画してください。"
   ]
  },
  {
   "cell_type": "code",
   "execution_count": null,
   "id": "55a6be8c",
   "metadata": {},
   "outputs": [],
   "source": []
  },
  {
   "cell_type": "markdown",
   "id": "897feb33",
   "metadata": {},
   "source": [
    "#### 正解例\n",
    "```python\n",
    "def polyString(str, d, font):\n",
    "    n = len(str)\n",
    "    angle = 360 / n\n",
    "    for c in str:\n",
    "        write(c, font=font)\n",
    "        forward(d)\n",
    "        right(angle)\n",
    "\n",
    "initializeTurtle()\n",
    "penup()\n",
    "polyString(\"TURTLE\", 100, (40, \"Arial\", \"normal\"))\n",
    "```"
   ]
  },
  {
   "cell_type": "markdown",
   "id": "b986cba0",
   "metadata": {},
   "source": [
    "## 課題2\n",
    "五角形以上の多角形の各辺を延長していくと、何回か交わった後交わらわなくなります。\n",
    "このときできる図形を星型多角形といいます。\n",
    "正多角形からできる図形を星型正多角形といい、星型正n角形のn個の内角は全て等しくなります。\n",
    "\n",
    "星型n多角形の内角の和は`180 × (n - 4)`になるので、星型正n角形の内角は`(180 × (n - 4)) ÷ n`で求めることができます。\n",
    "正多角形を作成する関数の`angle`の計算式を`angle = 180 - (180 * (n - 4)) / n`に書き換えると星型正多角形を作成する関数になります。\n",
    "\n",
    "ただし、nが偶数の場合、`n / 2`の正多角形を２つ重ね合わせたものが星型正多角形になるので、一筆書きでは描けません。\n",
    "\n",
    "星型正多角形を作成する関数`polyStar(n , d)`を作成し、辺が200の星型五角形を描画するプログラムを作成してください。"
   ]
  },
  {
   "cell_type": "code",
   "execution_count": null,
   "id": "34b9e3dd",
   "metadata": {},
   "outputs": [],
   "source": []
  },
  {
   "cell_type": "markdown",
   "id": "5ab01155",
   "metadata": {},
   "source": [
    "#### 正解例\n",
    "```python\n",
    "def polyStar(n, d):\n",
    "    angle = 180 - (180 * (n - 4) / n)\n",
    "    for i in range(n):\n",
    "        forward(d)\n",
    "        right(angle)\n",
    "        \n",
    "initializeTurtle()\n",
    "penup()\n",
    "goto(100, 250)\n",
    "pendown()\n",
    "polyStar(5, 200)\n",
    "```"
   ]
  },
  {
   "cell_type": "markdown",
   "id": "bf669fe0",
   "metadata": {},
   "source": [
    "最初の向きを`(180 * (n - 4) / n) / 2`だけ回転すると頂点が中央の星型正多角形になります。"
   ]
  }
 ],
 "metadata": {
  "kernelspec": {
   "display_name": "Python 3 (ipykernel)",
   "language": "python",
   "name": "python3"
  },
  "language_info": {
   "codemirror_mode": {
    "name": "ipython",
    "version": 3
   },
   "file_extension": ".py",
   "mimetype": "text/x-python",
   "name": "python",
   "nbconvert_exporter": "python",
   "pygments_lexer": "ipython3",
   "version": "3.7.15"
  }
 },
 "nbformat": 4,
 "nbformat_minor": 5
}
